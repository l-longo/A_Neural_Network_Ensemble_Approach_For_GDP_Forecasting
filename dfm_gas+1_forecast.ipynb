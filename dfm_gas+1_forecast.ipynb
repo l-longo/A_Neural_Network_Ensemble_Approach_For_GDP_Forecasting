{
  "nbformat": 4,
  "nbformat_minor": 0,
  "metadata": {
    "colab": {
      "name": "dfm-gas+1_forecast.ipynb",
      "provenance": [],
      "collapsed_sections": [],
      "authorship_tag": "ABX9TyMwoq85hw97us4ugSvSTAK7",
      "include_colab_link": true
    },
    "kernelspec": {
      "name": "python3",
      "display_name": "Python 3"
    },
    "language_info": {
      "name": "python"
    }
  },
  "cells": [
    {
      "cell_type": "markdown",
      "metadata": {
        "id": "view-in-github",
        "colab_type": "text"
      },
      "source": [
        "<a href=\"https://colab.research.google.com/github/l-longo/A_neural_network_ensemble_approach_for_GDP_forecasting/blob/main/dfm_gas%2B1_forecast.ipynb\" target=\"_parent\"><img src=\"https://colab.research.google.com/assets/colab-badge.svg\" alt=\"Open In Colab\"/></a>"
      ]
    },
    {
      "cell_type": "markdown",
      "source": [
        "# *DFM-GAS one quarter ahead prediction*\n",
        "\n",
        "Import libraries:"
      ],
      "metadata": {
        "id": "YYab5Q56bETl"
      }
    },
    {
      "cell_type": "code",
      "execution_count": 1,
      "metadata": {
        "id": "kxvbXcBVan4j"
      },
      "outputs": [],
      "source": [
        "import pandas as pd\n",
        "import numpy as np\n",
        "import matplotlib.pyplot as plt\n",
        "from math import sqrt\n",
        "from sklearn.metrics import mean_squared_error, mean_absolute_error\n",
        "from scipy.optimize import minimize\n",
        "from scipy.stats import norm\n",
        "from google.colab import files"
      ]
    },
    {
      "cell_type": "markdown",
      "source": [
        "Define estimation function:"
      ],
      "metadata": {
        "id": "Zykf2XoqbSJb"
      }
    },
    {
      "cell_type": "code",
      "source": [
        "def MLE_GAS(par, data, out = None):\n",
        "    T = len(data)\n",
        "    gamma=par[0]\n",
        "    beta1=par[1]\n",
        "    beta2=par[2]\n",
        "    s2=par[3]\n",
        "    y=data[:,0]\n",
        "    f1=data[:,1]\n",
        "    f2=data[:,2]\n",
        "    s=np.zeros(T)\n",
        "    err = np.zeros(T)\n",
        "    #Sc=np.zeros(T)\n",
        "    alpha=np.zeros(T)\n",
        "    alpha[0]=0.5\n",
        "    for t in range(1,T):\n",
        "        #Sc[t-1] = s2\n",
        "        s[t-1] = (y[t-1] - alpha[t-1] - beta1*f1[t-1] - beta2*f2[t-1])/s2\n",
        "        alpha[t] = gamma*s[t-1] + alpha[t-1]\n",
        "    \n",
        "    err = y - alpha - beta1*f1 - beta2*f2\n",
        "    lls = np.log(2*np.pi)/2 + np.log(s2) + 1/(2*s2)*(err**2)\n",
        "    ll = - (T/2)*np.log(2*np.pi) - T/2*np.log(s2) - 1/(2*s2)*np.sum(err**2)\n",
        "    if out is None:\n",
        "        return -ll\n",
        "    else:\n",
        "        return -ll,lls,s2"
      ],
      "metadata": {
        "id": "HyiCl-f8bC0r"
      },
      "execution_count": 2,
      "outputs": []
    },
    {
      "cell_type": "markdown",
      "source": [
        "Import factors estimated through PCA for the whole out-of-sample window, using monthly indicators"
      ],
      "metadata": {
        "id": "4x3NirbnbDqa"
      }
    },
    {
      "cell_type": "code",
      "source": [
        "uploaded = files.upload()\n",
        "fcts=pd.read_excel('fcts1io.xlsx',sheet_name='pred',index_col=0)\n",
        "gdp=pd.read_excel('gdp.xlsx',sheet_name='Sheet1',index_col=0)\n",
        "gdp = gdp[gdp.index>'1970-01-01']\n",
        "fcts = fcts[fcts.index>1]\n",
        "fcts1=fcts.to_numpy()\n",
        "R = np.size(fcts1[:,0])\n",
        "C = np.size(fcts1[0,:])\n",
        "ft=np.zeros((145,C))\n",
        "gdp_train=gdp[gdp.index<'2005-05-01']\n",
        "gdp_test=gdp[gdp.index>'2005-04-01']\n",
        "Tr=np.size(gdp_train)\n",
        "gdp_train = gdp_train.dropna()\n",
        "gdp_tr = gdp_train.to_numpy()"
      ],
      "metadata": {
        "colab": {
          "resources": {
            "http://localhost:8080/nbextensions/google.colab/files.js": {
              "data": "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",
              "ok": true,
              "headers": [
                [
                  "content-type",
                  "application/javascript"
                ]
              ],
              "status": 200,
              "status_text": "OK"
            }
          },
          "base_uri": "https://localhost:8080/",
          "height": 114
        },
        "id": "FU6CIfmLcI4_",
        "outputId": "0573897e-04e2-4e03-f796-93d0c328789d"
      },
      "execution_count": 3,
      "outputs": [
        {
          "output_type": "display_data",
          "data": {
            "text/html": [
              "\n",
              "     <input type=\"file\" id=\"files-7297240d-7d27-4cfe-ac30-0d0e6c42b457\" name=\"files[]\" multiple disabled\n",
              "        style=\"border:none\" />\n",
              "     <output id=\"result-7297240d-7d27-4cfe-ac30-0d0e6c42b457\">\n",
              "      Upload widget is only available when the cell has been executed in the\n",
              "      current browser session. Please rerun this cell to enable.\n",
              "      </output>\n",
              "      <script src=\"/nbextensions/google.colab/files.js\"></script> "
            ],
            "text/plain": [
              "<IPython.core.display.HTML object>"
            ]
          },
          "metadata": {}
        },
        {
          "output_type": "stream",
          "name": "stdout",
          "text": [
            "Saving fcts1io.xlsx to fcts1io.xlsx\n",
            "Saving gdp.xlsx to gdp.xlsx\n"
          ]
        }
      ]
    },
    {
      "cell_type": "markdown",
      "source": [
        "Transform monthly factors to quarterly factors:"
      ],
      "metadata": {
        "id": "NSfTEVuuc7bt"
      }
    },
    {
      "cell_type": "code",
      "source": [
        "for j in range(C):\n",
        "    c = np.reshape(fcts1[:,j], (145,3))\n",
        "    for i in range(145):\n",
        "        ft[i,j] = (c[i,2])"
      ],
      "metadata": {
        "id": "kgsQEJ67c-8z"
      },
      "execution_count": 4,
      "outputs": []
    },
    {
      "cell_type": "code",
      "source": [
        "data=np.hstack(((gdp_train.to_numpy()),ft[:141,0:2]))\n",
        "\n",
        "b =  5 #initial values chosen via grid-search algorithm\n",
        "   \n",
        "par=([b*0.04+0.1, 1.9, 1.9, 2])\n",
        "loglik = minimize(MLE_GAS, par, method='SLSQP', args=data,\n",
        "                  bounds = [(0,None),(None,None),\n",
        "                            (None,None),(None,None)],options={'disp': True,'ftol':1e-10})\n",
        "estimates = loglik.x   \n",
        "gamma=estimates[0]\n",
        "beta1=estimates[1]\n",
        "beta2=estimates[2]\n",
        "s2=estimates[3]\n"
      ],
      "metadata": {
        "colab": {
          "base_uri": "https://localhost:8080/"
        },
        "id": "RzyYeIGIidoo",
        "outputId": "ed4710aa-d0a3-4965-a93b-78f4856ea72d"
      },
      "execution_count": 5,
      "outputs": [
        {
          "output_type": "stream",
          "name": "stdout",
          "text": [
            "Optimization terminated successfully.    (Exit mode 0)\n",
            "            Current function value: 333.89329696447305\n",
            "            Iterations: 19\n",
            "            Function evaluations: 130\n",
            "            Gradient evaluations: 19\n"
          ]
        }
      ]
    },
    {
      "cell_type": "markdown",
      "source": [
        "Forecast via extending-window:"
      ],
      "metadata": {
        "id": "3igWiDNZdRoS"
      }
    },
    {
      "cell_type": "code",
      "source": [
        "sz_oos = 141\n",
        "F = ft[sz_oos,:354]\n",
        "F = np.reshape(F, (177,2))\n",
        "gdp_test.insert(loc=1,column='F1',value=F[:,0])\n",
        "gdp_test.insert(loc=2,column='F2',value=F[:,1])\n",
        "gdp_test = gdp_test.dropna()\n",
        "dt = gdp_test.to_numpy()\n",
        "\n",
        "predicted=np.zeros(59)\n",
        "tv_mean = np.zeros(59)\n",
        "\n",
        "data_full = np.vstack((data,dt))\n",
        "\n",
        "for i in range(np.size(predicted)):\n",
        "    \n",
        "    if i<=8:\n",
        "        y = data_full[i:sz_oos+i,0]\n",
        "        f1 = data_full[i:sz_oos+i,1]\n",
        "        f2 = data_full[i:sz_oos+i,2]\n",
        "    elif 8<i<=16:\n",
        "        b =  5 #initial values chosen via grid-search algorithm\n",
        "        par=([b*0.04+0.1, 1.9, 1.9, 2])\n",
        "        loglik = minimize(MLE_GAS, par, method='SLSQP', args=data_full[:sz_oos+8,:],\n",
        "                          bounds = [(0,None),(None,None),\n",
        "                                    (None,None),(None,None)],options={'disp': True,'ftol':1e-10})\n",
        "        estimates = loglik.x   \n",
        "        gamma=estimates[0]\n",
        "        beta1=estimates[1]\n",
        "        beta2=estimates[2]\n",
        "        s2=estimates[3]\n",
        "    elif 16<i<=24:\n",
        "        b =  5 #initial values chosen via grid-search algorithm\n",
        "        par=([b*0.04+0.1, 1.9, 1.9, 2])\n",
        "        loglik = minimize(MLE_GAS, par, method='SLSQP', args=data_full[:sz_oos+16,:],\n",
        "                          bounds = [(0,None),(None,None),\n",
        "                                    (None,None),(None,None)],options={'disp': True,'ftol':1e-10})\n",
        "        estimates = loglik.x   \n",
        "        gamma=estimates[0]\n",
        "        beta1=estimates[1]\n",
        "        beta2=estimates[2]\n",
        "        s2=estimates[3]\n",
        "    \n",
        "    elif 24<i<=32:\n",
        "        b =  5 #initial values chosen via grid-search algorithm\n",
        "        par=([b*0.04+0.1, 1.9, 1.9, 2])\n",
        "        loglik = minimize(MLE_GAS, par, method='SLSQP', args=data_full[:sz_oos+24,:],\n",
        "                          bounds = [(0,None),(None,None),\n",
        "                                    (None,None),(None,None)],options={'disp': True,'ftol':1e-10})\n",
        "        estimates = loglik.x   \n",
        "        gamma=estimates[0]\n",
        "        beta1=estimates[1]\n",
        "        beta2=estimates[2]\n",
        "        s2=estimates[3]\n",
        "    \n",
        "    elif 32<i<=40:\n",
        "        b =  5 #initial values chosen via grid-search algorithm\n",
        "        par=([b*0.04+0.1, 1.9, 1.9, 2])\n",
        "        loglik = minimize(MLE_GAS, par, method='SLSQP', args=data_full[:sz_oos+32,:],\n",
        "                          bounds = [(0,None),(None,None),\n",
        "                                    (None,None),(None,None)],options={'disp': True,'ftol':1e-10})\n",
        "        estimates = loglik.x   \n",
        "        gamma=estimates[0]\n",
        "        beta1=estimates[1]\n",
        "        beta2=estimates[2]\n",
        "        s2=estimates[3]\n",
        "    \n",
        "    elif 40<i<=48:\n",
        "        b =  5 #initial values chosen via grid-search algorithm\n",
        "        par=([b*0.04+0.1, 1.9, 1.9, 2])\n",
        "        loglik = minimize(MLE_GAS, par, method='SLSQP', args=data_full[:sz_oos+40,:],\n",
        "                          bounds = [(0,None),(None,None),\n",
        "                                    (None,None),(None,None)],options={'disp': True,'ftol':1e-10})\n",
        "        estimates = loglik.x   \n",
        "        gamma=estimates[0]\n",
        "        beta1=estimates[1]\n",
        "        beta2=estimates[2]\n",
        "        s2=estimates[3]\n",
        "    \n",
        "    else:\n",
        "        b =  5 #initial values chosen via grid-search algorithm\n",
        "        par=([b*0.04+0.1, 1.9, 1.9, 2])\n",
        "        loglik = minimize(MLE_GAS, par, method='SLSQP', args=data,\n",
        "                          bounds = [(0,None),(None,None),\n",
        "                                    (None,None),(None,None)],options={'disp': True,'ftol':1e-10})\n",
        "        estimates = loglik.x   \n",
        "        gamma=estimates[0]\n",
        "        beta1=estimates[1]\n",
        "        beta2=estimates[2]\n",
        "        s2=estimates[3]\n",
        "\n",
        "    \n",
        "    T = np.size(data[:,0])+1\n",
        "    s=np.zeros(T)\n",
        "    alpha=np.zeros(T)\n",
        "    alpha[0]=np.mean(data[:,0])\n",
        "    y = data_full[i:141+i,0]\n",
        "    f1 = data_full[i:141+i,1]\n",
        "    f2 = data_full[i:141+i,2]\n",
        "    #f1 = data_full[0:141,1]\n",
        "    #f2 = data_full[0:141,2]\n",
        "    for t in range(1,T):\n",
        "        s[t-1] = (y[t-1] - alpha[t-1] - beta1*f1[t-1] - beta2*f2[t-1])/s2\n",
        "        alpha[t] =  gamma*s[t-1] + alpha[t-1]\n",
        "    \n",
        "    predicted[i] = alpha[T-1] + beta1*F[i,0] + beta2*F[i,1]\n",
        "    tv_mean[i] = alpha[T-1]    \n",
        "\n",
        "gdp_test.insert(loc=1,column='pred',value=predicted) \n"
      ],
      "metadata": {
        "colab": {
          "base_uri": "https://localhost:8080/"
        },
        "id": "DuMdwSoxdTwC",
        "outputId": "338acd25-a0b3-4c58-8b19-204d1c0d0e7e"
      },
      "execution_count": 6,
      "outputs": [
        {
          "output_type": "stream",
          "name": "stdout",
          "text": [
            "Optimization terminated successfully.    (Exit mode 0)\n",
            "            Current function value: 350.490220899144\n",
            "            Iterations: 21\n",
            "            Function evaluations: 140\n",
            "            Gradient evaluations: 21\n",
            "Optimization terminated successfully.    (Exit mode 0)\n",
            "            Current function value: 350.490220899144\n",
            "            Iterations: 21\n",
            "            Function evaluations: 140\n",
            "            Gradient evaluations: 21\n",
            "Optimization terminated successfully.    (Exit mode 0)\n",
            "            Current function value: 350.490220899144\n",
            "            Iterations: 21\n",
            "            Function evaluations: 140\n",
            "            Gradient evaluations: 21\n",
            "Optimization terminated successfully.    (Exit mode 0)\n",
            "            Current function value: 350.490220899144\n",
            "            Iterations: 21\n",
            "            Function evaluations: 140\n",
            "            Gradient evaluations: 21\n",
            "Optimization terminated successfully.    (Exit mode 0)\n",
            "            Current function value: 350.490220899144\n",
            "            Iterations: 21\n",
            "            Function evaluations: 140\n",
            "            Gradient evaluations: 21\n",
            "Optimization terminated successfully.    (Exit mode 0)\n",
            "            Current function value: 350.490220899144\n",
            "            Iterations: 21\n",
            "            Function evaluations: 140\n",
            "            Gradient evaluations: 21\n",
            "Optimization terminated successfully.    (Exit mode 0)\n",
            "            Current function value: 350.490220899144\n",
            "            Iterations: 21\n",
            "            Function evaluations: 140\n",
            "            Gradient evaluations: 21\n",
            "Optimization terminated successfully.    (Exit mode 0)\n",
            "            Current function value: 350.490220899144\n",
            "            Iterations: 21\n",
            "            Function evaluations: 140\n",
            "            Gradient evaluations: 21\n",
            "Optimization terminated successfully.    (Exit mode 0)\n",
            "            Current function value: 373.5348233745413\n",
            "            Iterations: 21\n",
            "            Function evaluations: 141\n",
            "            Gradient evaluations: 21\n",
            "Optimization terminated successfully.    (Exit mode 0)\n",
            "            Current function value: 373.5348233745413\n",
            "            Iterations: 21\n",
            "            Function evaluations: 141\n",
            "            Gradient evaluations: 21\n",
            "Optimization terminated successfully.    (Exit mode 0)\n",
            "            Current function value: 373.5348233745413\n",
            "            Iterations: 21\n",
            "            Function evaluations: 141\n",
            "            Gradient evaluations: 21\n",
            "Optimization terminated successfully.    (Exit mode 0)\n",
            "            Current function value: 373.5348233745413\n",
            "            Iterations: 21\n",
            "            Function evaluations: 141\n",
            "            Gradient evaluations: 21\n",
            "Optimization terminated successfully.    (Exit mode 0)\n",
            "            Current function value: 373.5348233745413\n",
            "            Iterations: 21\n",
            "            Function evaluations: 141\n",
            "            Gradient evaluations: 21\n",
            "Optimization terminated successfully.    (Exit mode 0)\n",
            "            Current function value: 373.5348233745413\n",
            "            Iterations: 21\n",
            "            Function evaluations: 141\n",
            "            Gradient evaluations: 21\n",
            "Optimization terminated successfully.    (Exit mode 0)\n",
            "            Current function value: 373.5348233745413\n",
            "            Iterations: 21\n",
            "            Function evaluations: 141\n",
            "            Gradient evaluations: 21\n",
            "Optimization terminated successfully.    (Exit mode 0)\n",
            "            Current function value: 373.5348233745413\n",
            "            Iterations: 21\n",
            "            Function evaluations: 141\n",
            "            Gradient evaluations: 21\n",
            "Optimization terminated successfully.    (Exit mode 0)\n",
            "            Current function value: 395.41699804998984\n",
            "            Iterations: 24\n",
            "            Function evaluations: 160\n",
            "            Gradient evaluations: 24\n",
            "Optimization terminated successfully.    (Exit mode 0)\n",
            "            Current function value: 395.41699804998984\n",
            "            Iterations: 24\n",
            "            Function evaluations: 160\n",
            "            Gradient evaluations: 24\n",
            "Optimization terminated successfully.    (Exit mode 0)\n",
            "            Current function value: 395.41699804998984\n",
            "            Iterations: 24\n",
            "            Function evaluations: 160\n",
            "            Gradient evaluations: 24\n",
            "Optimization terminated successfully.    (Exit mode 0)\n",
            "            Current function value: 395.41699804998984\n",
            "            Iterations: 24\n",
            "            Function evaluations: 160\n",
            "            Gradient evaluations: 24\n",
            "Optimization terminated successfully.    (Exit mode 0)\n",
            "            Current function value: 395.41699804998984\n",
            "            Iterations: 24\n",
            "            Function evaluations: 160\n",
            "            Gradient evaluations: 24\n",
            "Optimization terminated successfully.    (Exit mode 0)\n",
            "            Current function value: 395.41699804998984\n",
            "            Iterations: 24\n",
            "            Function evaluations: 160\n",
            "            Gradient evaluations: 24\n",
            "Optimization terminated successfully.    (Exit mode 0)\n",
            "            Current function value: 395.41699804998984\n",
            "            Iterations: 24\n",
            "            Function evaluations: 160\n",
            "            Gradient evaluations: 24\n",
            "Optimization terminated successfully.    (Exit mode 0)\n",
            "            Current function value: 395.41699804998984\n",
            "            Iterations: 24\n",
            "            Function evaluations: 160\n",
            "            Gradient evaluations: 24\n",
            "Optimization terminated successfully.    (Exit mode 0)\n",
            "            Current function value: 413.0844398491031\n",
            "            Iterations: 27\n",
            "            Function evaluations: 178\n",
            "            Gradient evaluations: 27\n",
            "Optimization terminated successfully.    (Exit mode 0)\n",
            "            Current function value: 413.0844398491031\n",
            "            Iterations: 27\n",
            "            Function evaluations: 178\n",
            "            Gradient evaluations: 27\n",
            "Optimization terminated successfully.    (Exit mode 0)\n",
            "            Current function value: 413.0844398491031\n",
            "            Iterations: 27\n",
            "            Function evaluations: 178\n",
            "            Gradient evaluations: 27\n",
            "Optimization terminated successfully.    (Exit mode 0)\n",
            "            Current function value: 413.0844398491031\n",
            "            Iterations: 27\n",
            "            Function evaluations: 178\n",
            "            Gradient evaluations: 27\n",
            "Optimization terminated successfully.    (Exit mode 0)\n",
            "            Current function value: 413.0844398491031\n",
            "            Iterations: 27\n",
            "            Function evaluations: 178\n",
            "            Gradient evaluations: 27\n",
            "Optimization terminated successfully.    (Exit mode 0)\n",
            "            Current function value: 413.0844398491031\n",
            "            Iterations: 27\n",
            "            Function evaluations: 178\n",
            "            Gradient evaluations: 27\n",
            "Optimization terminated successfully.    (Exit mode 0)\n",
            "            Current function value: 413.0844398491031\n",
            "            Iterations: 27\n",
            "            Function evaluations: 178\n",
            "            Gradient evaluations: 27\n",
            "Optimization terminated successfully.    (Exit mode 0)\n",
            "            Current function value: 413.0844398491031\n",
            "            Iterations: 27\n",
            "            Function evaluations: 178\n",
            "            Gradient evaluations: 27\n",
            "Optimization terminated successfully.    (Exit mode 0)\n",
            "            Current function value: 431.54902655444243\n",
            "            Iterations: 25\n",
            "            Function evaluations: 165\n",
            "            Gradient evaluations: 25\n",
            "Optimization terminated successfully.    (Exit mode 0)\n",
            "            Current function value: 431.54902655444243\n",
            "            Iterations: 25\n",
            "            Function evaluations: 165\n",
            "            Gradient evaluations: 25\n",
            "Optimization terminated successfully.    (Exit mode 0)\n",
            "            Current function value: 431.54902655444243\n",
            "            Iterations: 25\n",
            "            Function evaluations: 165\n",
            "            Gradient evaluations: 25\n",
            "Optimization terminated successfully.    (Exit mode 0)\n",
            "            Current function value: 431.54902655444243\n",
            "            Iterations: 25\n",
            "            Function evaluations: 165\n",
            "            Gradient evaluations: 25\n",
            "Optimization terminated successfully.    (Exit mode 0)\n",
            "            Current function value: 431.54902655444243\n",
            "            Iterations: 25\n",
            "            Function evaluations: 165\n",
            "            Gradient evaluations: 25\n",
            "Optimization terminated successfully.    (Exit mode 0)\n",
            "            Current function value: 431.54902655444243\n",
            "            Iterations: 25\n",
            "            Function evaluations: 165\n",
            "            Gradient evaluations: 25\n",
            "Optimization terminated successfully.    (Exit mode 0)\n",
            "            Current function value: 431.54902655444243\n",
            "            Iterations: 25\n",
            "            Function evaluations: 165\n",
            "            Gradient evaluations: 25\n",
            "Optimization terminated successfully.    (Exit mode 0)\n",
            "            Current function value: 431.54902655444243\n",
            "            Iterations: 25\n",
            "            Function evaluations: 165\n",
            "            Gradient evaluations: 25\n",
            "Optimization terminated successfully.    (Exit mode 0)\n",
            "            Current function value: 333.89329696447305\n",
            "            Iterations: 19\n",
            "            Function evaluations: 130\n",
            "            Gradient evaluations: 19\n",
            "Optimization terminated successfully.    (Exit mode 0)\n",
            "            Current function value: 333.89329696447305\n",
            "            Iterations: 19\n",
            "            Function evaluations: 130\n",
            "            Gradient evaluations: 19\n",
            "Optimization terminated successfully.    (Exit mode 0)\n",
            "            Current function value: 333.89329696447305\n",
            "            Iterations: 19\n",
            "            Function evaluations: 130\n",
            "            Gradient evaluations: 19\n",
            "Optimization terminated successfully.    (Exit mode 0)\n",
            "            Current function value: 333.89329696447305\n",
            "            Iterations: 19\n",
            "            Function evaluations: 130\n",
            "            Gradient evaluations: 19\n",
            "Optimization terminated successfully.    (Exit mode 0)\n",
            "            Current function value: 333.89329696447305\n",
            "            Iterations: 19\n",
            "            Function evaluations: 130\n",
            "            Gradient evaluations: 19\n",
            "Optimization terminated successfully.    (Exit mode 0)\n",
            "            Current function value: 333.89329696447305\n",
            "            Iterations: 19\n",
            "            Function evaluations: 130\n",
            "            Gradient evaluations: 19\n",
            "Optimization terminated successfully.    (Exit mode 0)\n",
            "            Current function value: 333.89329696447305\n",
            "            Iterations: 19\n",
            "            Function evaluations: 130\n",
            "            Gradient evaluations: 19\n",
            "Optimization terminated successfully.    (Exit mode 0)\n",
            "            Current function value: 333.89329696447305\n",
            "            Iterations: 19\n",
            "            Function evaluations: 130\n",
            "            Gradient evaluations: 19\n",
            "Optimization terminated successfully.    (Exit mode 0)\n",
            "            Current function value: 333.89329696447305\n",
            "            Iterations: 19\n",
            "            Function evaluations: 130\n",
            "            Gradient evaluations: 19\n",
            "Optimization terminated successfully.    (Exit mode 0)\n",
            "            Current function value: 333.89329696447305\n",
            "            Iterations: 19\n",
            "            Function evaluations: 130\n",
            "            Gradient evaluations: 19\n"
          ]
        }
      ]
    },
    {
      "cell_type": "markdown",
      "source": [
        "Out-of-sample fit of the DFM-GAS:\n"
      ],
      "metadata": {
        "id": "KEqZyYquN2lz"
      }
    },
    {
      "cell_type": "code",
      "source": [
        "date = gdp_test.index\n",
        "fig, ax = plt.subplots(figsize = (11, 6))\n",
        "ax.plot(gdp_test['pred'],'r', label='DFM+1')\n",
        "ax.plot(gdp_test['GDPR'],'blue', label='Actual')\n",
        "ax.yaxis.grid(True) # only horizontal grid\n",
        "ax.legend(fontsize = 9, loc = 'lower right')\n",
        "ax.axvspan(date[10],date[16],color = 'gray', alpha = .5, zorder = -1)\n",
        "plt.show()"
      ],
      "metadata": {
        "colab": {
          "base_uri": "https://localhost:8080/",
          "height": 374
        },
        "id": "a14BDTOZe1nY",
        "outputId": "e75c2c36-caa5-48ec-aecd-0d4384053ac7"
      },
      "execution_count": 8,
      "outputs": [
        {
          "output_type": "display_data",
          "data": {
            "image/png": "[encoded data removed]",
            "text/plain": [
              "<Figure size 792x432 with 1 Axes>"
            ]
          },
          "metadata": {
            "needs_background": "light"
          }
        }
      ]
    }
  ]
}