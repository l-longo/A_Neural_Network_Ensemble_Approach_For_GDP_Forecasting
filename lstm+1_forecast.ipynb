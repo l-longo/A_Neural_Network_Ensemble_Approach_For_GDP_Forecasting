{
  "nbformat": 4,
  "nbformat_minor": 0,
  "metadata": {
    "colab": {
      "name": "lstm+1_forecast.ipynb",
      "provenance": [],
      "collapsed_sections": [],
      "authorship_tag": "ABX9TyMJIrfi/TJmzDfBdG5I3F1m",
      "include_colab_link": true
    },
    "kernelspec": {
      "name": "python3",
      "display_name": "Python 3"
    },
    "language_info": {
      "name": "python"
    }
  },
  "cells": [
    {
      "cell_type": "markdown",
      "metadata": {
        "id": "view-in-github",
        "colab_type": "text"
      },
      "source": [
        "<a href=\"https://colab.research.google.com/github/l-longo/A_neural_network_ensemble_approach_for_GDP_forecasting/blob/main/lstm%2B1_forecast.ipynb\" target=\"_parent\"><img src=\"https://colab.research.google.com/assets/colab-badge.svg\" alt=\"Open In Colab\"/></a>"
      ]
    },
    {
      "cell_type": "markdown",
      "source": [
        "# **LSTM one quarter ahead prediction**\n",
        "\n",
        "Import libraries:"
      ],
      "metadata": {
        "id": "4z3QKbPaCB1p"
      }
    },
    {
      "cell_type": "code",
      "execution_count": 1,
      "metadata": {
        "id": "0XfvzOYnB1vY"
      },
      "outputs": [],
      "source": [
        "import os\n",
        "import random\n",
        "from numpy.random import seed\n",
        "import tensorflow as tf\n",
        "import pandas as pd\n",
        "from pandas import DataFrame\n",
        "import numpy as np\n",
        "from pandas import concat\n",
        "from keras.models import Sequential\n",
        "from keras.layers import GRU as LSTM\n",
        "from keras.layers import Dense\n",
        "from sklearn.preprocessing import MinMaxScaler\n",
        "from numpy import concatenate\n",
        "import matplotlib.pyplot as plt\n",
        "from sklearn.metrics import mean_squared_error, mean_absolute_error\n",
        "from math import sqrt\n",
        "from matplotlib import pyplot\n",
        "import keras\n",
        "from google.colab import files"
      ]
    },
    {
      "cell_type": "code",
      "source": [
        "os.environ['PYTHONHASHSEED']='34'\n",
        "os.environ['CUDA_VISIBLE_DEVICE']=''\n",
        "np.random.seed(100)\n",
        "random.seed(30)\n",
        "tf.random.set_seed(30)"
      ],
      "metadata": {
        "id": "rwDS0fOXCb_l"
      },
      "execution_count": 2,
      "outputs": []
    },
    {
      "cell_type": "code",
      "source": [
        "def series_to_supervised(data, n_in=1, n_out=1, dropnan=True):\n",
        "\tn_vars = 1 if type(data) is list else data.shape[1]\n",
        "\tdf = DataFrame(data)\n",
        "\tcols, names = list(), list()\n",
        "\t# input sequence (t-n, ... t-1)\n",
        "\tfor i in range(n_in, 0, -1):\n",
        "\t\tcols.append(df.shift(i))\n",
        "\t\tnames += [('var%d(t-%d)' % (j+1, i)) for j in range(n_vars)]\n",
        "\t# forecast sequence (t, t+1, ... t+n)\n",
        "\tfor i in range(0, n_out):\n",
        "\t\tcols.append(df.shift(-i))\n",
        "\t\tif i == 0:\n",
        "\t\t\tnames += [('var%d(t)' % (j+1)) for j in range(n_vars)]\n",
        "\t\telse:\n",
        "\t\t\tnames += [('var%d(t+%d)' % (j+1, i)) for j in range(n_vars)]\n",
        "\t# put it all together\n",
        "\tagg = concat(cols, axis=1)\n",
        "\tagg.columns = names\n",
        "\t# drop rows with NaN values\n",
        "\tif dropnan:\n",
        "\t\tagg.dropna(inplace=True)\n",
        "\treturn agg\n"
      ],
      "metadata": {
        "id": "eMfE1FjqCxgm"
      },
      "execution_count": 3,
      "outputs": []
    },
    {
      "cell_type": "markdown",
      "source": [
        "Import FRED dataset:"
      ],
      "metadata": {
        "id": "_syJOivjC5Qx"
      }
    },
    {
      "cell_type": "code",
      "source": [
        "uploaded = files.upload()\n",
        "df1 = pd.read_excel('monthly.xlsx',index_col=0)\n",
        "df1 = df1[df1['date']<'2020-02-01']\n",
        "gdp = pd.read_excel('gdp.xlsx',sheet_name='Sheet1',index_col=0)"
      ],
      "metadata": {
        "colab": {
          "resources": {
            "http://localhost:8080/nbextensions/google.colab/files.js": {
              "data": "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",
              "ok": true,
              "headers": [
                [
                  "content-type",
                  "application/javascript"
                ]
              ],
              "status": 200,
              "status_text": "OK"
            }
          },
          "base_uri": "https://localhost:8080/",
          "height": 114
        },
        "id": "HPkpbjceC4CC",
        "outputId": "ba1b9827-6e86-4081-da24-2ee6ededffff"
      },
      "execution_count": 4,
      "outputs": [
        {
          "output_type": "display_data",
          "data": {
            "text/html": [
              "\n",
              "     <input type=\"file\" id=\"files-9bb8c2c0-7eab-4e9a-a474-8b8c443e8031\" name=\"files[]\" multiple disabled\n",
              "        style=\"border:none\" />\n",
              "     <output id=\"result-9bb8c2c0-7eab-4e9a-a474-8b8c443e8031\">\n",
              "      Upload widget is only available when the cell has been executed in the\n",
              "      current browser session. Please rerun this cell to enable.\n",
              "      </output>\n",
              "      <script src=\"/nbextensions/google.colab/files.js\"></script> "
            ],
            "text/plain": [
              "<IPython.core.display.HTML object>"
            ]
          },
          "metadata": {}
        },
        {
          "output_type": "stream",
          "name": "stdout",
          "text": [
            "Saving gdp.xlsx to gdp.xlsx\n",
            "Saving monthly.xlsx to monthly.xlsx\n"
          ]
        }
      ]
    },
    {
      "cell_type": "code",
      "source": [
        "variables = list(df1.drop(['date'], axis=1).columns)\n",
        "df1 = df1.fillna(0)\n",
        "dataset = df1.to_numpy()\n",
        "df1 = pd.DataFrame(data=df1,columns=variables)\n",
        "gdp_train = gdp[gdp.index<'2005-05-01']\n",
        "gdp_test = gdp[gdp.index>'2005-04-01']\n",
        "gdp_val = gdp_train[gdp_train.index>'1998-01-01']\n",
        "max_horizon = 3\n",
        "n_train_hours = 424 - max_horizon\n",
        "lags = 1\n",
        "values = df1.values\n",
        "values = values.astype('float32')\n",
        "scaler = MinMaxScaler(feature_range=(0, 1))\n",
        "scaled = scaler.fit_transform(values)"
      ],
      "metadata": {
        "id": "NcfkWN-2HBGr"
      },
      "execution_count": 5,
      "outputs": []
    },
    {
      "cell_type": "markdown",
      "source": [
        "Rescale features:"
      ],
      "metadata": {
        "id": "vRpmNm-sJYbC"
      }
    },
    {
      "cell_type": "code",
      "source": [
        "values = df1.values.astype('float32')\n",
        "scaler = MinMaxScaler(feature_range=(0, 1))\n",
        "scaled = scaler.fit_transform(values)\n",
        "n_features = np.size(variables)"
      ],
      "metadata": {
        "id": "-TtWJymsIi1N"
      },
      "execution_count": 6,
      "outputs": []
    },
    {
      "cell_type": "markdown",
      "source": [
        "Supervised learning:"
      ],
      "metadata": {
        "id": "0YFglAELW_Zg"
      }
    },
    {
      "cell_type": "code",
      "source": [
        "reframed = series_to_supervised(scaled, lags, 3)\n",
        "print(reframed.shape)"
      ],
      "metadata": {
        "colab": {
          "base_uri": "https://localhost:8080/"
        },
        "id": "YGPnBuPMXOCP",
        "outputId": "c6924be4-fec1-4b24-ffa0-799f0d1689b7"
      },
      "execution_count": 7,
      "outputs": [
        {
          "output_type": "stream",
          "name": "stdout",
          "text": [
            "(598, 552)\n"
          ]
        }
      ]
    },
    {
      "cell_type": "markdown",
      "source": [
        "Split into train and test sets:"
      ],
      "metadata": {
        "id": "8JzE8Hb4XRkf"
      }
    },
    {
      "cell_type": "code",
      "source": [
        "values = reframed.values\n",
        "train = values[:n_train_hours, :]\n",
        "validation = values[(n_train_hours - 84):n_train_hours, :]\n",
        "T=np.size(train[:,0])\n",
        "Tv=np.size(validation[:,0])"
      ],
      "metadata": {
        "id": "dYbvNg4UXP9x"
      },
      "execution_count": 8,
      "outputs": []
    },
    {
      "cell_type": "markdown",
      "source": [
        "Split into input and outputs:"
      ],
      "metadata": {
        "id": "v03xQyqJXVcJ"
      }
    },
    {
      "cell_type": "code",
      "source": [
        "n_obs = lags * n_features\n",
        "train_X, train_y = train[:, :n_obs], train[:, -n_features*3]\n",
        "validation_X, validation_y = validation[:, :n_obs], validation[:, -n_features*3]\n",
        "train_y=np.array([train_y,train[:, -n_features*2]]).T\n",
        "validation_y=np.array([validation_y,validation[:, -n_features*2]]).T\n",
        "train_y=np.hstack((train_y,np.resize(train[:, -n_features],(T,1))))\n",
        "validation_y=np.hstack((validation_y,np.resize(validation[:, -n_features],(Tv,1))))"
      ],
      "metadata": {
        "id": "kL6WxVf6Xg4P"
      },
      "execution_count": 9,
      "outputs": []
    },
    {
      "cell_type": "markdown",
      "source": [
        "Reshape input to be 3D [samples, timesteps, features]:\n"
      ],
      "metadata": {
        "id": "Ac468b6sXhwO"
      }
    },
    {
      "cell_type": "code",
      "source": [
        "train_X = train_X.reshape((train_X.shape[0], lags, n_features))\n",
        "validation_X = validation_X.reshape((validation_X.shape[0], lags, n_features))\n",
        "test = values[n_train_hours:, :]\n",
        "Ts=np.size(test[:,0])\n",
        "test_X, test_y = test[:, :n_obs], test[:, -n_features*3]\n",
        "test_y=np.array([test_y,test[:, -n_features*2]]).T\n",
        "test_y=np.hstack((test_y,np.resize(test[:, -n_features],(Ts,1))))\n",
        "test_X = test_X.reshape((test_X.shape[0], lags, n_features))\n",
        "\n",
        "t, node = 3, 7"
      ],
      "metadata": {
        "id": "fhBiXK2YXmUt"
      },
      "execution_count": 10,
      "outputs": []
    },
    {
      "cell_type": "markdown",
      "source": [
        "Define the LSTM with Keras:"
      ],
      "metadata": {
        "id": "jF3badTuYXU-"
      }
    },
    {
      "cell_type": "code",
      "source": [
        "model = Sequential()\n",
        "model.add(LSTM(5*(1+t)+(10*node+10)-5, activation='selu', input_shape=(train_X.shape[1], train_X.shape[2])))\n",
        "model.add(Dense(10*node + 10))\n",
        "model.add(Dense(3)) \n"
      ],
      "metadata": {
        "id": "RM1sJq7NYVfl"
      },
      "execution_count": 11,
      "outputs": []
    },
    {
      "cell_type": "markdown",
      "source": [
        "Train the weights of the LSTM:"
      ],
      "metadata": {
        "id": "6ycb2AdVYcWB"
      }
    },
    {
      "cell_type": "code",
      "source": [
        "model.compile(loss='mse', optimizer='adam', metrics=['accuracy'])\n",
        "model.fit(train_X, train_y, epochs=150, batch_size=32, validation_data=(validation_X, validation_y),\n",
        "      verbose=0, shuffle=False)"
      ],
      "metadata": {
        "colab": {
          "base_uri": "https://localhost:8080/"
        },
        "id": "qI-aj63GYenh",
        "outputId": "db8d14f4-ba1c-40c1-8048-f6d89f95c80c"
      },
      "execution_count": 12,
      "outputs": [
        {
          "output_type": "execute_result",
          "data": {
            "text/plain": [
              "<keras.callbacks.History at 0x7fd30bb03510>"
            ]
          },
          "metadata": {},
          "execution_count": 12
        }
      ]
    },
    {
      "cell_type": "markdown",
      "source": [
        "Invert scaling for forecast:\n"
      ],
      "metadata": {
        "id": "PNleBkGtfosh"
      }
    },
    {
      "cell_type": "code",
      "source": [
        "yhat = model.predict(test_X)\n",
        "yhat1=np.array([yhat[:,0]]).T\n",
        "yhat2=np.array([yhat[:,1]]).T\n",
        "yhat3=np.array([yhat[:,2]]).T\n",
        "test_X = test_X.reshape((test_X.shape[0], lags*n_features))\n",
        "\n",
        "inv_yhat1 = concatenate((yhat1, test_X[:, -(n_features-1):]), axis=1)\n",
        "inv_yhat1 = scaler.inverse_transform(inv_yhat1)\n",
        "inv_yhat1 = inv_yhat1[:,0]\n",
        "inv_yhat2 = concatenate((yhat2, test_X[:, -(n_features-1):]), axis=1)\n",
        "inv_yhat2 = scaler.inverse_transform(inv_yhat2)\n",
        "inv_yhat2 = inv_yhat2[:,0]\n",
        "inv_yhat3 = concatenate((yhat3, test_X[:, -(n_features-1):]), axis=1)\n",
        "inv_yhat3 = scaler.inverse_transform(inv_yhat3)\n",
        "inv_yhat3 = inv_yhat3[:,0]\n",
        "inv_yhat3 = concatenate((yhat3, test_X[:, -(n_features-1):]), axis=1)\n",
        "inv_yhat3 = scaler.inverse_transform(inv_yhat3)\n",
        "inv_yhat3 = inv_yhat3[:,0]"
      ],
      "metadata": {
        "id": "5JZaYbThfma2"
      },
      "execution_count": 13,
      "outputs": []
    },
    {
      "cell_type": "code",
      "source": [
        "cc = gdp_test.to_numpy()\n",
        "cc1 = np.hstack((cc,np.array([inv_yhat3]).T))\n",
        "test = pd.DataFrame(data=cc1, columns=['actual', 'pred'])\n",
        "test = test.dropna()\n",
        "test_final = test"
      ],
      "metadata": {
        "id": "xkMDnUtJgDRm"
      },
      "execution_count": 14,
      "outputs": []
    },
    {
      "cell_type": "code",
      "source": [
        "test_final"
      ],
      "metadata": {
        "colab": {
          "base_uri": "https://localhost:8080/",
          "height": 1000
        },
        "id": "B3S2TttA2ry8",
        "outputId": "03d8e6de-9bee-4574-bbf0-f3f3f8c0d283"
      },
      "execution_count": 15,
      "outputs": [
        {
          "output_type": "execute_result",
          "data": {
            "text/html": [
              "\n",
              "  <div id=\"df-979e4cad-9d1f-4d3f-9415-c8f43b8f5e24\">\n",
              "    <div class=\"colab-df-container\">\n",
              "      <div>\n",
              "<style scoped>\n",
              "    .dataframe tbody tr th:only-of-type {\n",
              "        vertical-align: middle;\n",
              "    }\n",
              "\n",
              "    .dataframe tbody tr th {\n",
              "        vertical-align: top;\n",
              "    }\n",
              "\n",
              "    .dataframe thead th {\n",
              "        text-align: right;\n",
              "    }\n",
              "</style>\n",
              "<table border=\"1\" class=\"dataframe\">\n",
              "  <thead>\n",
              "    <tr style=\"text-align: right;\">\n",
              "      <th></th>\n",
              "      <th>actual</th>\n",
              "      <th>pred</th>\n",
              "    </tr>\n",
              "  </thead>\n",
              "  <tbody>\n",
              "    <tr>\n",
              "      <th>2</th>\n",
              "      <td>3.6</td>\n",
              "      <td>2.853614</td>\n",
              "    </tr>\n",
              "    <tr>\n",
              "      <th>5</th>\n",
              "      <td>2.6</td>\n",
              "      <td>3.176595</td>\n",
              "    </tr>\n",
              "    <tr>\n",
              "      <th>8</th>\n",
              "      <td>5.4</td>\n",
              "      <td>2.978689</td>\n",
              "    </tr>\n",
              "    <tr>\n",
              "      <th>11</th>\n",
              "      <td>0.9</td>\n",
              "      <td>2.660404</td>\n",
              "    </tr>\n",
              "    <tr>\n",
              "      <th>14</th>\n",
              "      <td>0.6</td>\n",
              "      <td>1.787269</td>\n",
              "    </tr>\n",
              "    <tr>\n",
              "      <th>17</th>\n",
              "      <td>3.5</td>\n",
              "      <td>1.240432</td>\n",
              "    </tr>\n",
              "    <tr>\n",
              "      <th>20</th>\n",
              "      <td>0.9</td>\n",
              "      <td>1.253365</td>\n",
              "    </tr>\n",
              "    <tr>\n",
              "      <th>23</th>\n",
              "      <td>2.3</td>\n",
              "      <td>1.194096</td>\n",
              "    </tr>\n",
              "    <tr>\n",
              "      <th>26</th>\n",
              "      <td>2.2</td>\n",
              "      <td>1.123288</td>\n",
              "    </tr>\n",
              "    <tr>\n",
              "      <th>29</th>\n",
              "      <td>2.5</td>\n",
              "      <td>0.618469</td>\n",
              "    </tr>\n",
              "    <tr>\n",
              "      <th>32</th>\n",
              "      <td>-2.3</td>\n",
              "      <td>0.496606</td>\n",
              "    </tr>\n",
              "    <tr>\n",
              "      <th>35</th>\n",
              "      <td>2.1</td>\n",
              "      <td>0.119103</td>\n",
              "    </tr>\n",
              "    <tr>\n",
              "      <th>38</th>\n",
              "      <td>-2.1</td>\n",
              "      <td>-0.015759</td>\n",
              "    </tr>\n",
              "    <tr>\n",
              "      <th>41</th>\n",
              "      <td>-8.4</td>\n",
              "      <td>-0.443728</td>\n",
              "    </tr>\n",
              "    <tr>\n",
              "      <th>44</th>\n",
              "      <td>-4.4</td>\n",
              "      <td>-1.482649</td>\n",
              "    </tr>\n",
              "    <tr>\n",
              "      <th>47</th>\n",
              "      <td>-0.6</td>\n",
              "      <td>-0.996272</td>\n",
              "    </tr>\n",
              "    <tr>\n",
              "      <th>50</th>\n",
              "      <td>1.5</td>\n",
              "      <td>0.380544</td>\n",
              "    </tr>\n",
              "    <tr>\n",
              "      <th>53</th>\n",
              "      <td>4.5</td>\n",
              "      <td>1.935872</td>\n",
              "    </tr>\n",
              "    <tr>\n",
              "      <th>56</th>\n",
              "      <td>1.5</td>\n",
              "      <td>2.312310</td>\n",
              "    </tr>\n",
              "    <tr>\n",
              "      <th>59</th>\n",
              "      <td>3.7</td>\n",
              "      <td>2.248861</td>\n",
              "    </tr>\n",
              "    <tr>\n",
              "      <th>62</th>\n",
              "      <td>3.0</td>\n",
              "      <td>2.708629</td>\n",
              "    </tr>\n",
              "    <tr>\n",
              "      <th>65</th>\n",
              "      <td>2.0</td>\n",
              "      <td>1.728672</td>\n",
              "    </tr>\n",
              "    <tr>\n",
              "      <th>68</th>\n",
              "      <td>-1.0</td>\n",
              "      <td>1.709875</td>\n",
              "    </tr>\n",
              "    <tr>\n",
              "      <th>71</th>\n",
              "      <td>2.9</td>\n",
              "      <td>1.856775</td>\n",
              "    </tr>\n",
              "    <tr>\n",
              "      <th>74</th>\n",
              "      <td>-0.1</td>\n",
              "      <td>1.677523</td>\n",
              "    </tr>\n",
              "    <tr>\n",
              "      <th>77</th>\n",
              "      <td>4.7</td>\n",
              "      <td>1.315278</td>\n",
              "    </tr>\n",
              "    <tr>\n",
              "      <th>80</th>\n",
              "      <td>3.2</td>\n",
              "      <td>1.490328</td>\n",
              "    </tr>\n",
              "    <tr>\n",
              "      <th>83</th>\n",
              "      <td>1.7</td>\n",
              "      <td>1.606576</td>\n",
              "    </tr>\n",
              "    <tr>\n",
              "      <th>86</th>\n",
              "      <td>0.5</td>\n",
              "      <td>1.511358</td>\n",
              "    </tr>\n",
              "    <tr>\n",
              "      <th>89</th>\n",
              "      <td>0.5</td>\n",
              "      <td>1.392766</td>\n",
              "    </tr>\n",
              "    <tr>\n",
              "      <th>92</th>\n",
              "      <td>3.6</td>\n",
              "      <td>1.346907</td>\n",
              "    </tr>\n",
              "    <tr>\n",
              "      <th>95</th>\n",
              "      <td>0.5</td>\n",
              "      <td>1.710393</td>\n",
              "    </tr>\n",
              "    <tr>\n",
              "      <th>98</th>\n",
              "      <td>3.2</td>\n",
              "      <td>1.403188</td>\n",
              "    </tr>\n",
              "    <tr>\n",
              "      <th>101</th>\n",
              "      <td>3.2</td>\n",
              "      <td>1.119866</td>\n",
              "    </tr>\n",
              "    <tr>\n",
              "      <th>104</th>\n",
              "      <td>-1.1</td>\n",
              "      <td>1.073963</td>\n",
              "    </tr>\n",
              "    <tr>\n",
              "      <th>107</th>\n",
              "      <td>5.5</td>\n",
              "      <td>0.862022</td>\n",
              "    </tr>\n",
              "    <tr>\n",
              "      <th>110</th>\n",
              "      <td>5.0</td>\n",
              "      <td>0.851355</td>\n",
              "    </tr>\n",
              "    <tr>\n",
              "      <th>113</th>\n",
              "      <td>2.3</td>\n",
              "      <td>0.813802</td>\n",
              "    </tr>\n",
              "    <tr>\n",
              "      <th>116</th>\n",
              "      <td>3.8</td>\n",
              "      <td>0.579662</td>\n",
              "    </tr>\n",
              "    <tr>\n",
              "      <th>119</th>\n",
              "      <td>2.7</td>\n",
              "      <td>1.011111</td>\n",
              "    </tr>\n",
              "    <tr>\n",
              "      <th>122</th>\n",
              "      <td>1.5</td>\n",
              "      <td>0.855927</td>\n",
              "    </tr>\n",
              "    <tr>\n",
              "      <th>125</th>\n",
              "      <td>0.6</td>\n",
              "      <td>0.654860</td>\n",
              "    </tr>\n",
              "    <tr>\n",
              "      <th>128</th>\n",
              "      <td>2.3</td>\n",
              "      <td>0.531878</td>\n",
              "    </tr>\n",
              "    <tr>\n",
              "      <th>131</th>\n",
              "      <td>1.3</td>\n",
              "      <td>0.792900</td>\n",
              "    </tr>\n",
              "    <tr>\n",
              "      <th>134</th>\n",
              "      <td>2.2</td>\n",
              "      <td>0.951568</td>\n",
              "    </tr>\n",
              "    <tr>\n",
              "      <th>137</th>\n",
              "      <td>2.5</td>\n",
              "      <td>1.143934</td>\n",
              "    </tr>\n",
              "    <tr>\n",
              "      <th>140</th>\n",
              "      <td>2.3</td>\n",
              "      <td>1.018218</td>\n",
              "    </tr>\n",
              "    <tr>\n",
              "      <th>143</th>\n",
              "      <td>1.7</td>\n",
              "      <td>0.887032</td>\n",
              "    </tr>\n",
              "    <tr>\n",
              "      <th>146</th>\n",
              "      <td>2.9</td>\n",
              "      <td>0.592040</td>\n",
              "    </tr>\n",
              "    <tr>\n",
              "      <th>149</th>\n",
              "      <td>3.9</td>\n",
              "      <td>0.492319</td>\n",
              "    </tr>\n",
              "    <tr>\n",
              "      <th>152</th>\n",
              "      <td>3.8</td>\n",
              "      <td>0.569633</td>\n",
              "    </tr>\n",
              "    <tr>\n",
              "      <th>155</th>\n",
              "      <td>2.7</td>\n",
              "      <td>0.475999</td>\n",
              "    </tr>\n",
              "    <tr>\n",
              "      <th>158</th>\n",
              "      <td>2.1</td>\n",
              "      <td>0.301504</td>\n",
              "    </tr>\n",
              "    <tr>\n",
              "      <th>161</th>\n",
              "      <td>1.3</td>\n",
              "      <td>0.127343</td>\n",
              "    </tr>\n",
              "    <tr>\n",
              "      <th>164</th>\n",
              "      <td>2.9</td>\n",
              "      <td>-0.341088</td>\n",
              "    </tr>\n",
              "    <tr>\n",
              "      <th>167</th>\n",
              "      <td>1.5</td>\n",
              "      <td>-0.008182</td>\n",
              "    </tr>\n",
              "    <tr>\n",
              "      <th>170</th>\n",
              "      <td>2.6</td>\n",
              "      <td>-0.062134</td>\n",
              "    </tr>\n",
              "    <tr>\n",
              "      <th>173</th>\n",
              "      <td>2.4</td>\n",
              "      <td>0.063488</td>\n",
              "    </tr>\n",
              "    <tr>\n",
              "      <th>176</th>\n",
              "      <td>-5.0</td>\n",
              "      <td>0.255729</td>\n",
              "    </tr>\n",
              "  </tbody>\n",
              "</table>\n",
              "</div>\n",
              "      <button class=\"colab-df-convert\" onclick=\"convertToInteractive('df-979e4cad-9d1f-4d3f-9415-c8f43b8f5e24')\"\n",
              "              title=\"Convert this dataframe to an interactive table.\"\n",
              "              style=\"display:none;\">\n",
              "        \n",
              "  <svg xmlns=\"http://www.w3.org/2000/svg\" height=\"24px\"viewBox=\"0 0 24 24\"\n",
              "       width=\"24px\">\n",
              "    <path d=\"M0 0h24v24H0V0z\" fill=\"none\"/>\n",
              "    <path d=\"M18.56 5.44l.94 2.06.94-2.06 2.06-.94-2.06-.94-.94-2.06-.94 2.06-2.06.94zm-11 1L8.5 8.5l.94-2.06 2.06-.94-2.06-.94L8.5 2.5l-.94 2.06-2.06.94zm10 10l.94 2.06.94-2.06 2.06-.94-2.06-.94-.94-2.06-.94 2.06-2.06.94z\"/><path d=\"M17.41 7.96l-1.37-1.37c-.4-.4-.92-.59-1.43-.59-.52 0-1.04.2-1.43.59L10.3 9.45l-7.72 7.72c-.78.78-.78 2.05 0 2.83L4 21.41c.39.39.9.59 1.41.59.51 0 1.02-.2 1.41-.59l7.78-7.78 2.81-2.81c.8-.78.8-2.07 0-2.86zM5.41 20L4 18.59l7.72-7.72 1.47 1.35L5.41 20z\"/>\n",
              "  </svg>\n",
              "      </button>\n",
              "      \n",
              "  <style>\n",
              "    .colab-df-container {\n",
              "      display:flex;\n",
              "      flex-wrap:wrap;\n",
              "      gap: 12px;\n",
              "    }\n",
              "\n",
              "    .colab-df-convert {\n",
              "      background-color: #E8F0FE;\n",
              "      border: none;\n",
              "      border-radius: 50%;\n",
              "      cursor: pointer;\n",
              "      display: none;\n",
              "      fill: #1967D2;\n",
              "      height: 32px;\n",
              "      padding: 0 0 0 0;\n",
              "      width: 32px;\n",
              "    }\n",
              "\n",
              "    .colab-df-convert:hover {\n",
              "      background-color: #E2EBFA;\n",
              "      box-shadow: 0px 1px 2px rgba(60, 64, 67, 0.3), 0px 1px 3px 1px rgba(60, 64, 67, 0.15);\n",
              "      fill: #174EA6;\n",
              "    }\n",
              "\n",
              "    [theme=dark] .colab-df-convert {\n",
              "      background-color: #3B4455;\n",
              "      fill: #D2E3FC;\n",
              "    }\n",
              "\n",
              "    [theme=dark] .colab-df-convert:hover {\n",
              "      background-color: #434B5C;\n",
              "      box-shadow: 0px 1px 3px 1px rgba(0, 0, 0, 0.15);\n",
              "      filter: drop-shadow(0px 1px 2px rgba(0, 0, 0, 0.3));\n",
              "      fill: #FFFFFF;\n",
              "    }\n",
              "  </style>\n",
              "\n",
              "      <script>\n",
              "        const buttonEl =\n",
              "          document.querySelector('#df-979e4cad-9d1f-4d3f-9415-c8f43b8f5e24 button.colab-df-convert');\n",
              "        buttonEl.style.display =\n",
              "          google.colab.kernel.accessAllowed ? 'block' : 'none';\n",
              "\n",
              "        async function convertToInteractive(key) {\n",
              "          const element = document.querySelector('#df-979e4cad-9d1f-4d3f-9415-c8f43b8f5e24');\n",
              "          const dataTable =\n",
              "            await google.colab.kernel.invokeFunction('convertToInteractive',\n",
              "                                                     [key], {});\n",
              "          if (!dataTable) return;\n",
              "\n",
              "          const docLinkHtml = 'Like what you see? Visit the ' +\n",
              "            '<a target=\"_blank\" href=https://colab.research.google.com/notebooks/data_table.ipynb>data table notebook</a>'\n",
              "            + ' to learn more about interactive tables.';\n",
              "          element.innerHTML = '';\n",
              "          dataTable['output_type'] = 'display_data';\n",
              "          await google.colab.output.renderOutput(dataTable, element);\n",
              "          const docLink = document.createElement('div');\n",
              "          docLink.innerHTML = docLinkHtml;\n",
              "          element.appendChild(docLink);\n",
              "        }\n",
              "      </script>\n",
              "    </div>\n",
              "  </div>\n",
              "  "
            ],
            "text/plain": [
              "     actual      pred\n",
              "2       3.6  2.853614\n",
              "5       2.6  3.176595\n",
              "8       5.4  2.978689\n",
              "11      0.9  2.660404\n",
              "14      0.6  1.787269\n",
              "17      3.5  1.240432\n",
              "20      0.9  1.253365\n",
              "23      2.3  1.194096\n",
              "26      2.2  1.123288\n",
              "29      2.5  0.618469\n",
              "32     -2.3  0.496606\n",
              "35      2.1  0.119103\n",
              "38     -2.1 -0.015759\n",
              "41     -8.4 -0.443728\n",
              "44     -4.4 -1.482649\n",
              "47     -0.6 -0.996272\n",
              "50      1.5  0.380544\n",
              "53      4.5  1.935872\n",
              "56      1.5  2.312310\n",
              "59      3.7  2.248861\n",
              "62      3.0  2.708629\n",
              "65      2.0  1.728672\n",
              "68     -1.0  1.709875\n",
              "71      2.9  1.856775\n",
              "74     -0.1  1.677523\n",
              "77      4.7  1.315278\n",
              "80      3.2  1.490328\n",
              "83      1.7  1.606576\n",
              "86      0.5  1.511358\n",
              "89      0.5  1.392766\n",
              "92      3.6  1.346907\n",
              "95      0.5  1.710393\n",
              "98      3.2  1.403188\n",
              "101     3.2  1.119866\n",
              "104    -1.1  1.073963\n",
              "107     5.5  0.862022\n",
              "110     5.0  0.851355\n",
              "113     2.3  0.813802\n",
              "116     3.8  0.579662\n",
              "119     2.7  1.011111\n",
              "122     1.5  0.855927\n",
              "125     0.6  0.654860\n",
              "128     2.3  0.531878\n",
              "131     1.3  0.792900\n",
              "134     2.2  0.951568\n",
              "137     2.5  1.143934\n",
              "140     2.3  1.018218\n",
              "143     1.7  0.887032\n",
              "146     2.9  0.592040\n",
              "149     3.9  0.492319\n",
              "152     3.8  0.569633\n",
              "155     2.7  0.475999\n",
              "158     2.1  0.301504\n",
              "161     1.3  0.127343\n",
              "164     2.9 -0.341088\n",
              "167     1.5 -0.008182\n",
              "170     2.6 -0.062134\n",
              "173     2.4  0.063488\n",
              "176    -5.0  0.255729"
            ]
          },
          "metadata": {},
          "execution_count": 15
        }
      ]
    },
    {
      "cell_type": "code",
      "source": [
        "fig = plt.figure()\n",
        "plt.figure(figsize=(14, 8))\n",
        "plt.plot(test['pred'],'r', label='LSTM+1')\n",
        "plt.plot(test['actual'],'blue', label='Actual')\n",
        "plt.legend()\n",
        "plt.title('Prediction')\n",
        "plt.show()"
      ],
      "metadata": {
        "colab": {
          "base_uri": "https://localhost:8080/",
          "height": 517
        },
        "id": "lXvJDGgZuHC9",
        "outputId": "9dc7435f-6871-43b9-d6bc-2d44445a2033"
      },
      "execution_count": 16,
      "outputs": [
        {
          "output_type": "display_data",
          "data": {
            "text/plain": [
              "<Figure size 432x288 with 0 Axes>"
            ]
          },
          "metadata": {}
        },
        {
          "output_type": "display_data",
          "data": {
            "image/png": "[encoded data removed]",
            "text/plain": [
              "<Figure size 1008x576 with 1 Axes>"
            ]
          },
          "metadata": {
            "needs_background": "light"
          }
        }
      ]
    },
    {
      "cell_type": "markdown",
      "source": [
        "Generate forecast with extending-window every two years of data:"
      ],
      "metadata": {
        "id": "2L98i33chlsz"
      }
    },
    {
      "cell_type": "code",
      "source": [
        "ext_forecast = np.zeros((test_final.shape))\n",
        "ext_forecast[:8,:] = test_final.iloc[:8,:]"
      ],
      "metadata": {
        "id": "ep0oK7Tz_W6F"
      },
      "execution_count": 17,
      "outputs": []
    },
    {
      "cell_type": "code",
      "source": [
        "for i in range(6):\n",
        "\n",
        "    df1 = pd.read_excel('monthly.xlsx',index_col=0)\n",
        "    df1 = df1[df1['date']<'2020-02-01']\n",
        "    gdp=pd.read_excel('gdp.xlsx',sheet_name='Sheet1',index_col=0)\n",
        "    \n",
        "    \n",
        "    \n",
        "    variables = list(df1.drop(['date'], axis=1).columns)\n",
        "    \n",
        "    max_horizon=3\n",
        "    n_train_hours = 424 + 6*4*(i+1) - max_horizon\n",
        "    df1=df1.fillna(0)\n",
        "    dataset=df1.to_numpy()\n",
        "    df1=pd.DataFrame(data=df1,columns=variables)\n",
        "    gdp_train=gdp.iloc[:n_train_hours + max_horizon,:]\n",
        "    gdp_test=gdp.iloc[n_train_hours + max_horizon:,:]\n",
        "    gdp_val=gdp_train.iloc[n_train_hours + max_horizon - 84]\n",
        "    lags = 1\n",
        "    \n",
        "    values = df1.values\n",
        "    values = values.astype('float32')\n",
        "    scaler = MinMaxScaler(feature_range=(0, 1))\n",
        "    scaled = scaler.fit_transform(values)\n",
        "    \n",
        "    n_hours = lags\n",
        "    n_features = np.size(variables)\n",
        "    reframed = series_to_supervised(scaled, n_hours, 3)\n",
        "    print(reframed.shape)\n",
        "    values = reframed.values\n",
        "    train = values[:n_train_hours, :]\n",
        "    validation = values[(n_train_hours - 84):n_train_hours, :]\n",
        "    T=np.size(train[:,0])\n",
        "    Tv=np.size(validation[:,0])\n",
        "    n_obs = n_hours * n_features\n",
        "    train_X, train_y = train[:, :n_obs], train[:, -n_features*3]\n",
        "    validation_X, validation_y = validation[:, :n_obs], validation[:, -n_features*3]\n",
        "    train_y=np.array([train_y,train[:, -n_features*2]]).T\n",
        "    validation_y=np.array([validation_y,validation[:, -n_features*2]]).T\n",
        "    train_y=np.hstack((train_y,np.resize(train[:, -n_features],(T,1))))\n",
        "    validation_y=np.hstack((validation_y,np.resize(validation[:, -n_features],(Tv,1))))\n",
        "    train_X = train_X.reshape((train_X.shape[0], n_hours, n_features))\n",
        "    validation_X = validation_X.reshape((validation_X.shape[0], n_hours, n_features))\n",
        "    \n",
        "    \n",
        "    \n",
        "    test = values[n_train_hours:, :]\n",
        "    Ts=np.size(test[:,0])\n",
        "    test_X, test_y = test[:, :n_obs], test[:, -n_features*3]\n",
        "    test_y=np.array([test_y,test[:, -n_features*2]]).T\n",
        "    test_y=np.hstack((test_y,np.resize(test[:, -n_features],(Ts,1))))\n",
        "    test_X = test_X.reshape((test_X.shape[0], n_hours, n_features))\n",
        "    \n",
        "    t, node = 3, 7\n",
        "    if i == 0:\n",
        "        os.environ['PYTHONHASHSEED']='34'\n",
        "        os.environ['CUDA_VISIBLE_DEVICE']=''\n",
        "        random.seed(30)\n",
        "        seed(30)\n",
        "        tf.random.set_seed(30)\n",
        "        model = Sequential()\n",
        "        model.add(LSTM(160, activation='selu', input_shape=(train_X.shape[1], train_X.shape[2])))\n",
        "        model.add(Dense(100))\n",
        "        model.add(Dense(3)) \n",
        "        \n",
        "        model.compile(loss='mse', optimizer='adam', metrics=['accuracy'])\n",
        "        history = model.fit(train_X, train_y, epochs=50, batch_size=42, validation_data=(validation_X, validation_y),\n",
        "          verbose=0, shuffle=False)\n",
        "        \n",
        "    elif i == 1:\n",
        "        os.environ['PYTHONHASHSEED']='34'\n",
        "        os.environ['CUDA_VISIBLE_DEVICE']=''\n",
        "        random.seed(30)\n",
        "        seed(30)\n",
        "        tf.random.set_seed(30)\n",
        "        \n",
        "        \n",
        "        model.compile(loss='mse', optimizer='adam', metrics=['accuracy'])\n",
        "        history = model.fit(train_X, train_y, epochs=200, batch_size=32, validation_data=(validation_X, validation_y),\n",
        "          verbose=0, shuffle=False)\n",
        "        \n",
        "    \n",
        "    elif i==2:\n",
        "        os.environ['PYTHONHASHSEED']='34'\n",
        "        os.environ['CUDA_VISIBLE_DEVICE']=''\n",
        "        random.seed(30)\n",
        "        seed(30)\n",
        "        tf.random.set_seed(30)\n",
        "        \n",
        "        \n",
        "        model.compile(loss='mse', optimizer='adam', metrics=['accuracy'])\n",
        "        history = model.fit(train_X, train_y, epochs=50, batch_size=32, validation_data=(validation_X, validation_y),\n",
        "          verbose=0, shuffle=False)\n",
        "        \n",
        "    elif i==3:\n",
        "        os.environ['PYTHONHASHSEED']='34'\n",
        "        os.environ['CUDA_VISIBLE_DEVICE']=''\n",
        "        random.seed(30)\n",
        "        seed(30)\n",
        "        tf.random.set_seed(30)\n",
        "        \n",
        "        \n",
        "        model.compile(loss='mse', optimizer='adam', metrics=['accuracy'])\n",
        "        history = model.fit(train_X, train_y, epochs=200, batch_size=32, validation_data=(validation_X, validation_y),\n",
        "          verbose=0, shuffle=False)\n",
        "        \n",
        "    elif i==4:\n",
        "        os.environ['PYTHONHASHSEED']='34'\n",
        "        os.environ['CUDA_VISIBLE_DEVICE']=''\n",
        "        random.seed(30)\n",
        "        seed(30)\n",
        "        tf.random.set_seed(30)\n",
        "        model = Sequential()\n",
        "        model.add(LSTM(300, activation='selu', input_shape=(train_X.shape[1], train_X.shape[2])))\n",
        "        model.add(Dense(100))\n",
        "        model.add(Dense(3)) \n",
        "        \n",
        "        model.compile(loss='mse', optimizer='adam', metrics=['accuracy'])\n",
        "        history = model.fit(train_X, train_y, epochs=140, batch_size=32, validation_data=(validation_X, validation_y),\n",
        "          verbose=0, shuffle=False)\n",
        "        \n",
        "    else:\n",
        "        os.environ['PYTHONHASHSEED']='34'\n",
        "        os.environ['CUDA_VISIBLE_DEVICE']=''\n",
        "        random.seed(30)\n",
        "        seed(30)\n",
        "        tf.random.set_seed(30)\n",
        "        model = Sequential()\n",
        "        model.add(LSTM(150, activation='selu', input_shape=(train_X.shape[1], train_X.shape[2])))\n",
        "        model.add(Dense(50))\n",
        "        model.add(Dense(3)) \n",
        "        \n",
        "        model.compile(loss='mse', optimizer='adam', metrics=['accuracy'])\n",
        "        history = model.fit(train_X, train_y, epochs=200, batch_size=32, validation_data=(validation_X, validation_y),\n",
        "          verbose=0, shuffle=False)\n",
        "        \n",
        "    \n",
        "    \n",
        "    \n",
        "    yhat = model.predict(test_X)\n",
        "    yhat1=np.array([yhat[:,0]]).T\n",
        "    yhat2=np.array([yhat[:,1]]).T\n",
        "    yhat3=np.array([yhat[:,2]]).T\n",
        "    test_X = test_X.reshape((test_X.shape[0], n_hours*n_features))\n",
        "    # invert scaling for forecast\n",
        "    inv_yhat1 = concatenate((yhat1, test_X[:, -(n_features-1):]), axis=1)\n",
        "    inv_yhat1 = scaler.inverse_transform(inv_yhat1)\n",
        "    inv_yhat1 = inv_yhat1[:,0]\n",
        "    inv_yhat2 = concatenate((yhat2, test_X[:, -(n_features-1):]), axis=1)\n",
        "    inv_yhat2 = scaler.inverse_transform(inv_yhat2)\n",
        "    inv_yhat2 = inv_yhat2[:,0]\n",
        "    inv_yhat3 = concatenate((yhat3, test_X[:, -(n_features-1):]), axis=1)\n",
        "    inv_yhat3 = scaler.inverse_transform(inv_yhat3)\n",
        "    inv_yhat3 = inv_yhat3[:,0]\n",
        "    inv_yhat3 = concatenate((yhat3, test_X[:, -(n_features-1):]), axis=1)\n",
        "    inv_yhat3 = scaler.inverse_transform(inv_yhat3)\n",
        "    inv_yhat3 = inv_yhat3[:,0]\n",
        "    \n",
        "    \n",
        "    \n",
        "    cc = gdp_test.to_numpy()\n",
        "    cc1 = np.hstack((cc,np.array([inv_yhat3]).T))\n",
        "    test1 = pd.DataFrame(data=cc1, columns=['actual', 'pred'])\n",
        "    test1 = test1.dropna()\n",
        "   \n",
        "\n",
        "    ext_forecast[8*(i+1):,:] = test1\n",
        "\n",
        "\n"
      ],
      "metadata": {
        "colab": {
          "base_uri": "https://localhost:8080/"
        },
        "id": "8y_zC7UggET_",
        "outputId": "44635d04-4155-4c8d-bb5b-5fdef05a2e84"
      },
      "execution_count": 18,
      "outputs": [
        {
          "output_type": "stream",
          "name": "stdout",
          "text": [
            "(598, 552)\n",
            "(598, 552)\n",
            "(598, 552)\n",
            "(598, 552)\n",
            "(598, 552)\n",
            "(598, 552)\n",
            "WARNING:tensorflow:5 out of the last 15 calls to <function Model.make_predict_function.<locals>.predict_function at 0x7fd30ba57170> triggered tf.function retracing. Tracing is expensive and the excessive number of tracings could be due to (1) creating @tf.function repeatedly in a loop, (2) passing tensors with different shapes, (3) passing Python objects instead of tensors. For (1), please define your @tf.function outside of the loop. For (2), @tf.function has experimental_relax_shapes=True option that relaxes argument shapes that can avoid unnecessary retracing. For (3), please refer to https://www.tensorflow.org/guide/function#controlling_retracing and https://www.tensorflow.org/api_docs/python/tf/function for  more details.\n"
          ]
        }
      ]
    },
    {
      "cell_type": "code",
      "source": [
        "final_forecast = pd.DataFrame(ext_forecast)\n",
        "final_forecast.index = gdp[gdp.index>'2005-04-01'].dropna().index"
      ],
      "metadata": {
        "id": "fsYzdaf43qJ4"
      },
      "execution_count": 19,
      "outputs": []
    },
    {
      "cell_type": "code",
      "source": [
        "date = final_forecast.index\n",
        "fig, ax = plt.subplots(figsize = (11, 6))\n",
        "ax.plot(final_forecast.iloc[:,0], 'b')\n",
        "ax.plot(final_forecast.iloc[:,1], 'g')\n",
        "ax.yaxis.grid(True) # only horizontal grid\n",
        "ax.legend(fontsize = 9, loc = 'lower right')\n",
        "ax.axvspan(date[10],date[16],color = 'gray', alpha = .5, zorder = -1)\n",
        "plt.show()"
      ],
      "metadata": {
        "colab": {
          "base_uri": "https://localhost:8080/",
          "height": 392
        },
        "id": "8W7Pl0yakrAR",
        "outputId": "9ef5bf49-14e8-43ca-bb0e-260c5caf2d5c"
      },
      "execution_count": 20,
      "outputs": [
        {
          "output_type": "stream",
          "name": "stderr",
          "text": [
            "No handles with labels found to put in legend.\n"
          ]
        },
        {
          "output_type": "display_data",
          "data": {
            "image/png": "[encoded data removed]",
            "text/plain": [
              "<Figure size 792x432 with 1 Axes>"
            ]
          },
          "metadata": {
            "needs_background": "light"
          }
        }
      ]
    }
  ]
}